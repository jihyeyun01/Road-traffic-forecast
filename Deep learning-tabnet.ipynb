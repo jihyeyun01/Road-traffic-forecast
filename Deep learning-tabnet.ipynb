{
  "cells": [
    {
      "cell_type": "code",
      "execution_count": null,
      "metadata": {
        "colab": {
          "base_uri": "https://localhost:8080/"
        },
        "id": "ulMR0cTNa8Ka",
        "outputId": "caf14192-3e8c-4ee0-ef88-6258684391a1"
      },
      "outputs": [
        {
          "output_type": "stream",
          "name": "stdout",
          "text": [
            "Looking in indexes: https://pypi.org/simple, https://us-python.pkg.dev/colab-wheels/public/simple/\n",
            "Collecting pytorch-tabnet\n",
            "  Downloading pytorch_tabnet-4.0-py3-none-any.whl (41 kB)\n",
            "\u001b[K     |████████████████████████████████| 41 kB 542 kB/s \n",
            "\u001b[?25hRequirement already satisfied: numpy<2.0,>=1.17 in /usr/local/lib/python3.8/dist-packages (from pytorch-tabnet) (1.21.6)\n",
            "Requirement already satisfied: scipy>1.4 in /usr/local/lib/python3.8/dist-packages (from pytorch-tabnet) (1.7.3)\n",
            "Requirement already satisfied: scikit_learn>0.21 in /usr/local/lib/python3.8/dist-packages (from pytorch-tabnet) (1.0.2)\n",
            "Requirement already satisfied: tqdm<5.0,>=4.36 in /usr/local/lib/python3.8/dist-packages (from pytorch-tabnet) (4.64.1)\n",
            "Requirement already satisfied: torch<2.0,>=1.2 in /usr/local/lib/python3.8/dist-packages (from pytorch-tabnet) (1.13.0+cu116)\n",
            "Requirement already satisfied: joblib>=0.11 in /usr/local/lib/python3.8/dist-packages (from scikit_learn>0.21->pytorch-tabnet) (1.2.0)\n",
            "Requirement already satisfied: threadpoolctl>=2.0.0 in /usr/local/lib/python3.8/dist-packages (from scikit_learn>0.21->pytorch-tabnet) (3.1.0)\n",
            "Requirement already satisfied: typing-extensions in /usr/local/lib/python3.8/dist-packages (from torch<2.0,>=1.2->pytorch-tabnet) (4.4.0)\n",
            "Installing collected packages: pytorch-tabnet\n",
            "Successfully installed pytorch-tabnet-4.0\n"
          ]
        }
      ],
      "source": [
        "!pip install pytorch-tabnet\n",
        "import pandas as pd\n",
        "import numpy  as np\n",
        "from pytorch_tabnet.tab_model import TabNetRegressor\n",
        "from sklearn.model_selection import KFold"
      ]
    },
    {
      "cell_type": "code",
      "execution_count": null,
      "metadata": {
        "id": "jRddWTTxCJuy"
      },
      "outputs": [],
      "source": [
        "from sklearn.preprocessing import LabelEncoder\n",
        "import lightgbm as lgb\n",
        "import gc"
      ]
    },
    {
      "cell_type": "markdown",
      "source": [
        "csv to parquet()\n",
        "\n",
        "\n",
        "-> 메모리에 효율적인 데이터 유형을 사용하여 용량을 크게 줄이고 빠른 작업이 가능"
      ],
      "metadata": {
        "id": "OySEtz0xH9Rm"
      }
    },
    {
      "cell_type": "code",
      "execution_count": null,
      "metadata": {
        "id": "pfsLx3iiDDjm"
      },
      "outputs": [],
      "source": [
        "def csv_to_parquet(csv_path, save_name):\n",
        "    df = pd.read_csv(csv_path)\n",
        "    df.to_parquet(f'./{save_name}.parquet')\n",
        "    del df\n",
        "    gc.collect()\n",
        "    print(save_name, 'Done.')"
      ]
    },
    {
      "cell_type": "code",
      "execution_count": null,
      "metadata": {
        "colab": {
          "base_uri": "https://localhost:8080/"
        },
        "id": "mfbrGULmDFMv",
        "outputId": "da2d500a-51f3-4fbd-85e8-23de76c346cf"
      },
      "outputs": [
        {
          "output_type": "stream",
          "name": "stdout",
          "text": [
            "Mounted at /content/drive\n"
          ]
        }
      ],
      "source": [
        "from google.colab import drive\n",
        "drive.mount('/content/drive')"
      ]
    },
    {
      "cell_type": "code",
      "execution_count": null,
      "metadata": {
        "colab": {
          "base_uri": "https://localhost:8080/"
        },
        "id": "xt9A_-qJDGDc",
        "outputId": "09b8c3b8-02a8-4293-87b9-9a89097965f3"
      },
      "outputs": [
        {
          "output_type": "stream",
          "name": "stdout",
          "text": [
            "train Done.\n",
            "test Done.\n"
          ]
        }
      ],
      "source": [
        "csv_to_parquet('/content/drive/MyDrive/3-2 인공지능/jeju_data/train.csv', 'train')\n",
        "csv_to_parquet('/content/drive/MyDrive/3-2 인공지능/jeju_data/test.csv', 'test')"
      ]
    },
    {
      "cell_type": "markdown",
      "source": [
        "데이터 불러오기"
      ],
      "metadata": {
        "id": "3bbyI6BZIPED"
      }
    },
    {
      "cell_type": "code",
      "execution_count": null,
      "metadata": {
        "id": "BYZBKG8VDK-Y"
      },
      "outputs": [],
      "source": [
        "train = pd.read_parquet('./train.parquet')\n",
        "test = pd.read_parquet('./test.parquet')"
      ]
    },
    {
      "cell_type": "markdown",
      "source": [
        "### 데이터 전처리"
      ],
      "metadata": {
        "id": "NBU92C9EIkAN"
      }
    },
    {
      "cell_type": "markdown",
      "source": [
        "데이터 자료형 변형\n",
        "\n",
        ": RAM 초과 방지"
      ],
      "metadata": {
        "id": "KsKbYgFcR_b8"
      }
    },
    {
      "cell_type": "code",
      "execution_count": null,
      "metadata": {
        "id": "LojTARFRDMd9"
      },
      "outputs": [],
      "source": [
        "to_int32 = [\"base_date\", \"base_hour\", \"lane_count\", \"road_rating\", \"multi_linked\", \"connect_code\", \"road_type\"]\n",
        "to_float32 = [\"vehicle_restricted\", \"height_restricted\", \"maximum_speed_limit\", \"weight_restricted\", \"target\"]\n",
        "\n",
        "for i in to_int32:\n",
        "    train[i] = train[i].astype(\"int32\")\n",
        "for j in to_float32:\n",
        "    train[j] = train[j].astype(\"float32\")"
      ]
    },
    {
      "cell_type": "markdown",
      "source": [
        "LabelEncoder\n",
        "\n",
        ": 카테고리형 데이터를 수치형으로 변환\n",
        "\n",
        "- (OneHotEncoder 사용하려 했지만, RAM 초과로 실행 안 됨)\n",
        "```\n",
        "train = pd.get_dummies(train)\n",
        "test = pd.get_dummies(test)\n",
        "```\n",
        "\n"
      ],
      "metadata": {
        "id": "X2I7ndmnSOLk"
      }
    },
    {
      "cell_type": "code",
      "execution_count": null,
      "metadata": {
        "id": "UYRxS1wlDUbB"
      },
      "outputs": [],
      "source": [
        "str_col = ['day_of_week',\n",
        "           'base_hour',\n",
        "           'lane_count',\n",
        "           'maximum_speed_limit',\n",
        "           'start_latitude',\n",
        "           'start_longitude',\n",
        "           'end_latitude',\n",
        "           'end_longitude',\n",
        "           'road_rating',\n",
        "           'weight_restricted',\n",
        "           'start_turn_restricted',\n",
        "           'end_turn_restricted',\n",
        "           'start_node_name',\n",
        "           'end_node_name',\n",
        "           'road_type',\n",
        "           'road_name',\n",
        "           'connect_code',\n",
        "           'multi_linked']\n",
        "for i in str_col:\n",
        "\n",
        "    le = LabelEncoder()\n",
        "    le=le.fit(train[i])\n",
        "    train[i]=le.transform(train[i])\n",
        "\n",
        "    for label in np.unique(test[i]):\n",
        "        if label not in le.classes_:\n",
        "            le.classes_ = np.append(le.classes_, label)\n",
        "    test[i]=le.transform(test[i])"
      ]
    },
    {
      "cell_type": "markdown",
      "source": [
        "값이 하나인 컬럼 삭제"
      ],
      "metadata": {
        "id": "3hDfdKbCS6pV"
      }
    },
    {
      "cell_type": "code",
      "execution_count": null,
      "metadata": {
        "id": "-LG3mQOvDPIy"
      },
      "outputs": [],
      "source": [
        "train = train.drop(['id', 'vehicle_restricted', 'height_restricted'], axis = 1)\n",
        "test = test.drop(['id', 'vehicle_restricted', 'height_restricted'], axis = 1)"
      ]
    },
    {
      "cell_type": "markdown",
      "source": [
        "target 값 속도 100km/h 이상 제거\n",
        "\n",
        "속도 EDA부분을 봤을 때 최고 제한속도가 80km/h이기 때문에 차이가 심하게나는 극단치(100km/h 이상)만을 제거"
      ],
      "metadata": {
        "id": "u2Ud-Xh9TLsU"
      }
    },
    {
      "cell_type": "code",
      "execution_count": null,
      "metadata": {
        "id": "G8PKVu9vDQGQ"
      },
      "outputs": [],
      "source": [
        "train = train[train.target<100]"
      ]
    },
    {
      "cell_type": "code",
      "execution_count": null,
      "metadata": {
        "id": "C-iHatPadkBu"
      },
      "outputs": [],
      "source": [
        "y = train[\"target\"]"
      ]
    },
    {
      "cell_type": "code",
      "execution_count": null,
      "metadata": {
        "id": "zFUbMHyIhh5Z"
      },
      "outputs": [],
      "source": [
        "train = train.drop(['target'], axis = 1)"
      ]
    },
    {
      "cell_type": "markdown",
      "source": [
        "Data Scaling\n",
        "\n",
        "- StandardScaler() : best_val_0_mse = 0.13558\n",
        "\n",
        "- MinMaxScaler(): best_val_0_mse = 34.38201904296875\n",
        "\n",
        "- MaxAbsScaler() : best_val_0_mse = 31.513229370117188\n",
        "\n",
        "- RobustScaler() :  best_val_0_mse = 33.38386917114258\n",
        "\n",
        "라는 결과 나와  MaxAbsScaler 사용"
      ],
      "metadata": {
        "id": "UGMBkVvuTkzK"
      }
    },
    {
      "cell_type": "code",
      "execution_count": null,
      "metadata": {
        "id": "l3xPH5AZ6Jfw"
      },
      "outputs": [],
      "source": [
        "from sklearn.preprocessing import MaxAbsScaler\n",
        "\n",
        "mas = MaxAbsScaler()\n",
        "\n",
        "mas.fit(train)\n",
        "train.loc[:, :] = mas.transform(train)\n",
        "test.loc[:, :] = mas.transform(test)"
      ]
    },
    {
      "cell_type": "code",
      "execution_count": null,
      "metadata": {
        "id": "aAvssb53doOd"
      },
      "outputs": [],
      "source": [
        "X_test = test"
      ]
    },
    {
      "cell_type": "code",
      "source": [
        "X_test"
      ],
      "metadata": {
        "colab": {
          "base_uri": "https://localhost:8080/",
          "height": 488
        },
        "id": "o_kbNdtcOSa6",
        "outputId": "3942a008-3cd4-4d6e-f944-f31d56e3395b"
      },
      "execution_count": null,
      "outputs": [
        {
          "output_type": "execute_result",
          "data": {
            "text/plain": [
              "        base_date  day_of_week  base_hour  lane_count  road_rating  road_name  \\\n",
              "0        1.000005     0.166667   0.739130         1.0          1.0   0.533333   \n",
              "1        1.000004     1.000000   0.521739         0.5          0.0   0.583333   \n",
              "2        1.000004     0.000000   0.086957         0.0          0.0   0.600000   \n",
              "3        1.000004     0.166667   1.000000         1.0          0.0   0.566667   \n",
              "4        1.000004     0.333333   0.739130         1.0          0.5   0.200000   \n",
              "...           ...          ...        ...         ...          ...        ...   \n",
              "291236   1.000005     0.833333   0.217391         0.0          0.0   0.600000   \n",
              "291237   1.000004     0.000000   0.869565         0.5          0.0   0.566667   \n",
              "291238   1.000004     0.000000   0.478261         0.0          1.0   0.383333   \n",
              "291239   1.000004     0.000000   0.304348         0.5          1.0   0.016667   \n",
              "291240   1.000004     0.000000   0.434783         1.0          0.5   0.883333   \n",
              "\n",
              "        multi_linked  connect_code  maximum_speed_limit  weight_restricted  \\\n",
              "0                0.0           0.0                  0.8                0.0   \n",
              "1                0.0           0.0                  0.8                0.0   \n",
              "2                0.0           0.0                  0.6                0.0   \n",
              "3                0.0           0.0                  0.8                0.0   \n",
              "4                0.0           0.0                  0.8                0.0   \n",
              "...              ...           ...                  ...                ...   \n",
              "291236           0.0           0.0                  1.0                0.0   \n",
              "291237           0.0           0.0                  0.6                0.0   \n",
              "291238           0.0           0.0                  0.0                0.0   \n",
              "291239           0.0           0.0                  0.6                0.0   \n",
              "291240           0.0           0.0                  0.8                0.0   \n",
              "\n",
              "        road_type  start_node_name  start_latitude  start_longitude  \\\n",
              "0             0.0         0.335391        0.880342         0.577778   \n",
              "1             1.0         0.847737        0.155556         0.280342   \n",
              "2             0.0         0.199588        0.160684         0.376068   \n",
              "3             0.0         0.539095        0.726496         0.596581   \n",
              "4             0.0         0.314815        0.897436         0.685470   \n",
              "...           ...              ...             ...              ...   \n",
              "291236        0.0         0.693416        0.723077         0.358974   \n",
              "291237        0.0         0.590535        0.309402         0.733333   \n",
              "291238        0.0         0.244856        0.842735         0.437607   \n",
              "291239        0.0         0.082305        0.114530         0.454701   \n",
              "291240        0.0         0.485597        0.020513         0.535043   \n",
              "\n",
              "        start_turn_restricted  end_node_name  end_latitude  end_longitude  \\\n",
              "0                         0.0       0.829218      0.895726       0.593162   \n",
              "1                         0.0       0.045267      0.153846       0.254701   \n",
              "2                         0.0       0.195473      0.164103       0.376068   \n",
              "3                         0.0       0.720165      0.712821       0.596581   \n",
              "4                         0.0       0.298354      0.870085       0.707692   \n",
              "...                       ...            ...           ...            ...   \n",
              "291236                    0.0       0.185185      0.705983       0.357265   \n",
              "291237                    0.0       0.927984      0.304274       0.736752   \n",
              "291238                    1.0       0.899177      0.873504       0.441026   \n",
              "291239                    0.0       0.711934      0.129915       0.458120   \n",
              "291240                    0.0       0.485597      0.022222       0.535043   \n",
              "\n",
              "        end_turn_restricted  \n",
              "0                       1.0  \n",
              "1                       0.0  \n",
              "2                       0.0  \n",
              "3                       0.0  \n",
              "4                       0.0  \n",
              "...                     ...  \n",
              "291236                  0.0  \n",
              "291237                  0.0  \n",
              "291238                  1.0  \n",
              "291239                  0.0  \n",
              "291240                  0.0  \n",
              "\n",
              "[291241 rows x 19 columns]"
            ],
            "text/html": [
              "\n",
              "  <div id=\"df-17c5c1ad-97ff-44dd-ad3a-b88cc4e2a9af\">\n",
              "    <div class=\"colab-df-container\">\n",
              "      <div>\n",
              "<style scoped>\n",
              "    .dataframe tbody tr th:only-of-type {\n",
              "        vertical-align: middle;\n",
              "    }\n",
              "\n",
              "    .dataframe tbody tr th {\n",
              "        vertical-align: top;\n",
              "    }\n",
              "\n",
              "    .dataframe thead th {\n",
              "        text-align: right;\n",
              "    }\n",
              "</style>\n",
              "<table border=\"1\" class=\"dataframe\">\n",
              "  <thead>\n",
              "    <tr style=\"text-align: right;\">\n",
              "      <th></th>\n",
              "      <th>base_date</th>\n",
              "      <th>day_of_week</th>\n",
              "      <th>base_hour</th>\n",
              "      <th>lane_count</th>\n",
              "      <th>road_rating</th>\n",
              "      <th>road_name</th>\n",
              "      <th>multi_linked</th>\n",
              "      <th>connect_code</th>\n",
              "      <th>maximum_speed_limit</th>\n",
              "      <th>weight_restricted</th>\n",
              "      <th>road_type</th>\n",
              "      <th>start_node_name</th>\n",
              "      <th>start_latitude</th>\n",
              "      <th>start_longitude</th>\n",
              "      <th>start_turn_restricted</th>\n",
              "      <th>end_node_name</th>\n",
              "      <th>end_latitude</th>\n",
              "      <th>end_longitude</th>\n",
              "      <th>end_turn_restricted</th>\n",
              "    </tr>\n",
              "  </thead>\n",
              "  <tbody>\n",
              "    <tr>\n",
              "      <th>0</th>\n",
              "      <td>1.000005</td>\n",
              "      <td>0.166667</td>\n",
              "      <td>0.739130</td>\n",
              "      <td>1.0</td>\n",
              "      <td>1.0</td>\n",
              "      <td>0.533333</td>\n",
              "      <td>0.0</td>\n",
              "      <td>0.0</td>\n",
              "      <td>0.8</td>\n",
              "      <td>0.0</td>\n",
              "      <td>0.0</td>\n",
              "      <td>0.335391</td>\n",
              "      <td>0.880342</td>\n",
              "      <td>0.577778</td>\n",
              "      <td>0.0</td>\n",
              "      <td>0.829218</td>\n",
              "      <td>0.895726</td>\n",
              "      <td>0.593162</td>\n",
              "      <td>1.0</td>\n",
              "    </tr>\n",
              "    <tr>\n",
              "      <th>1</th>\n",
              "      <td>1.000004</td>\n",
              "      <td>1.000000</td>\n",
              "      <td>0.521739</td>\n",
              "      <td>0.5</td>\n",
              "      <td>0.0</td>\n",
              "      <td>0.583333</td>\n",
              "      <td>0.0</td>\n",
              "      <td>0.0</td>\n",
              "      <td>0.8</td>\n",
              "      <td>0.0</td>\n",
              "      <td>1.0</td>\n",
              "      <td>0.847737</td>\n",
              "      <td>0.155556</td>\n",
              "      <td>0.280342</td>\n",
              "      <td>0.0</td>\n",
              "      <td>0.045267</td>\n",
              "      <td>0.153846</td>\n",
              "      <td>0.254701</td>\n",
              "      <td>0.0</td>\n",
              "    </tr>\n",
              "    <tr>\n",
              "      <th>2</th>\n",
              "      <td>1.000004</td>\n",
              "      <td>0.000000</td>\n",
              "      <td>0.086957</td>\n",
              "      <td>0.0</td>\n",
              "      <td>0.0</td>\n",
              "      <td>0.600000</td>\n",
              "      <td>0.0</td>\n",
              "      <td>0.0</td>\n",
              "      <td>0.6</td>\n",
              "      <td>0.0</td>\n",
              "      <td>0.0</td>\n",
              "      <td>0.199588</td>\n",
              "      <td>0.160684</td>\n",
              "      <td>0.376068</td>\n",
              "      <td>0.0</td>\n",
              "      <td>0.195473</td>\n",
              "      <td>0.164103</td>\n",
              "      <td>0.376068</td>\n",
              "      <td>0.0</td>\n",
              "    </tr>\n",
              "    <tr>\n",
              "      <th>3</th>\n",
              "      <td>1.000004</td>\n",
              "      <td>0.166667</td>\n",
              "      <td>1.000000</td>\n",
              "      <td>1.0</td>\n",
              "      <td>0.0</td>\n",
              "      <td>0.566667</td>\n",
              "      <td>0.0</td>\n",
              "      <td>0.0</td>\n",
              "      <td>0.8</td>\n",
              "      <td>0.0</td>\n",
              "      <td>0.0</td>\n",
              "      <td>0.539095</td>\n",
              "      <td>0.726496</td>\n",
              "      <td>0.596581</td>\n",
              "      <td>0.0</td>\n",
              "      <td>0.720165</td>\n",
              "      <td>0.712821</td>\n",
              "      <td>0.596581</td>\n",
              "      <td>0.0</td>\n",
              "    </tr>\n",
              "    <tr>\n",
              "      <th>4</th>\n",
              "      <td>1.000004</td>\n",
              "      <td>0.333333</td>\n",
              "      <td>0.739130</td>\n",
              "      <td>1.0</td>\n",
              "      <td>0.5</td>\n",
              "      <td>0.200000</td>\n",
              "      <td>0.0</td>\n",
              "      <td>0.0</td>\n",
              "      <td>0.8</td>\n",
              "      <td>0.0</td>\n",
              "      <td>0.0</td>\n",
              "      <td>0.314815</td>\n",
              "      <td>0.897436</td>\n",
              "      <td>0.685470</td>\n",
              "      <td>0.0</td>\n",
              "      <td>0.298354</td>\n",
              "      <td>0.870085</td>\n",
              "      <td>0.707692</td>\n",
              "      <td>0.0</td>\n",
              "    </tr>\n",
              "    <tr>\n",
              "      <th>...</th>\n",
              "      <td>...</td>\n",
              "      <td>...</td>\n",
              "      <td>...</td>\n",
              "      <td>...</td>\n",
              "      <td>...</td>\n",
              "      <td>...</td>\n",
              "      <td>...</td>\n",
              "      <td>...</td>\n",
              "      <td>...</td>\n",
              "      <td>...</td>\n",
              "      <td>...</td>\n",
              "      <td>...</td>\n",
              "      <td>...</td>\n",
              "      <td>...</td>\n",
              "      <td>...</td>\n",
              "      <td>...</td>\n",
              "      <td>...</td>\n",
              "      <td>...</td>\n",
              "      <td>...</td>\n",
              "    </tr>\n",
              "    <tr>\n",
              "      <th>291236</th>\n",
              "      <td>1.000005</td>\n",
              "      <td>0.833333</td>\n",
              "      <td>0.217391</td>\n",
              "      <td>0.0</td>\n",
              "      <td>0.0</td>\n",
              "      <td>0.600000</td>\n",
              "      <td>0.0</td>\n",
              "      <td>0.0</td>\n",
              "      <td>1.0</td>\n",
              "      <td>0.0</td>\n",
              "      <td>0.0</td>\n",
              "      <td>0.693416</td>\n",
              "      <td>0.723077</td>\n",
              "      <td>0.358974</td>\n",
              "      <td>0.0</td>\n",
              "      <td>0.185185</td>\n",
              "      <td>0.705983</td>\n",
              "      <td>0.357265</td>\n",
              "      <td>0.0</td>\n",
              "    </tr>\n",
              "    <tr>\n",
              "      <th>291237</th>\n",
              "      <td>1.000004</td>\n",
              "      <td>0.000000</td>\n",
              "      <td>0.869565</td>\n",
              "      <td>0.5</td>\n",
              "      <td>0.0</td>\n",
              "      <td>0.566667</td>\n",
              "      <td>0.0</td>\n",
              "      <td>0.0</td>\n",
              "      <td>0.6</td>\n",
              "      <td>0.0</td>\n",
              "      <td>0.0</td>\n",
              "      <td>0.590535</td>\n",
              "      <td>0.309402</td>\n",
              "      <td>0.733333</td>\n",
              "      <td>0.0</td>\n",
              "      <td>0.927984</td>\n",
              "      <td>0.304274</td>\n",
              "      <td>0.736752</td>\n",
              "      <td>0.0</td>\n",
              "    </tr>\n",
              "    <tr>\n",
              "      <th>291238</th>\n",
              "      <td>1.000004</td>\n",
              "      <td>0.000000</td>\n",
              "      <td>0.478261</td>\n",
              "      <td>0.0</td>\n",
              "      <td>1.0</td>\n",
              "      <td>0.383333</td>\n",
              "      <td>0.0</td>\n",
              "      <td>0.0</td>\n",
              "      <td>0.0</td>\n",
              "      <td>0.0</td>\n",
              "      <td>0.0</td>\n",
              "      <td>0.244856</td>\n",
              "      <td>0.842735</td>\n",
              "      <td>0.437607</td>\n",
              "      <td>1.0</td>\n",
              "      <td>0.899177</td>\n",
              "      <td>0.873504</td>\n",
              "      <td>0.441026</td>\n",
              "      <td>1.0</td>\n",
              "    </tr>\n",
              "    <tr>\n",
              "      <th>291239</th>\n",
              "      <td>1.000004</td>\n",
              "      <td>0.000000</td>\n",
              "      <td>0.304348</td>\n",
              "      <td>0.5</td>\n",
              "      <td>1.0</td>\n",
              "      <td>0.016667</td>\n",
              "      <td>0.0</td>\n",
              "      <td>0.0</td>\n",
              "      <td>0.6</td>\n",
              "      <td>0.0</td>\n",
              "      <td>0.0</td>\n",
              "      <td>0.082305</td>\n",
              "      <td>0.114530</td>\n",
              "      <td>0.454701</td>\n",
              "      <td>0.0</td>\n",
              "      <td>0.711934</td>\n",
              "      <td>0.129915</td>\n",
              "      <td>0.458120</td>\n",
              "      <td>0.0</td>\n",
              "    </tr>\n",
              "    <tr>\n",
              "      <th>291240</th>\n",
              "      <td>1.000004</td>\n",
              "      <td>0.000000</td>\n",
              "      <td>0.434783</td>\n",
              "      <td>1.0</td>\n",
              "      <td>0.5</td>\n",
              "      <td>0.883333</td>\n",
              "      <td>0.0</td>\n",
              "      <td>0.0</td>\n",
              "      <td>0.8</td>\n",
              "      <td>0.0</td>\n",
              "      <td>0.0</td>\n",
              "      <td>0.485597</td>\n",
              "      <td>0.020513</td>\n",
              "      <td>0.535043</td>\n",
              "      <td>0.0</td>\n",
              "      <td>0.485597</td>\n",
              "      <td>0.022222</td>\n",
              "      <td>0.535043</td>\n",
              "      <td>0.0</td>\n",
              "    </tr>\n",
              "  </tbody>\n",
              "</table>\n",
              "<p>291241 rows × 19 columns</p>\n",
              "</div>\n",
              "      <button class=\"colab-df-convert\" onclick=\"convertToInteractive('df-17c5c1ad-97ff-44dd-ad3a-b88cc4e2a9af')\"\n",
              "              title=\"Convert this dataframe to an interactive table.\"\n",
              "              style=\"display:none;\">\n",
              "        \n",
              "  <svg xmlns=\"http://www.w3.org/2000/svg\" height=\"24px\"viewBox=\"0 0 24 24\"\n",
              "       width=\"24px\">\n",
              "    <path d=\"M0 0h24v24H0V0z\" fill=\"none\"/>\n",
              "    <path d=\"M18.56 5.44l.94 2.06.94-2.06 2.06-.94-2.06-.94-.94-2.06-.94 2.06-2.06.94zm-11 1L8.5 8.5l.94-2.06 2.06-.94-2.06-.94L8.5 2.5l-.94 2.06-2.06.94zm10 10l.94 2.06.94-2.06 2.06-.94-2.06-.94-.94-2.06-.94 2.06-2.06.94z\"/><path d=\"M17.41 7.96l-1.37-1.37c-.4-.4-.92-.59-1.43-.59-.52 0-1.04.2-1.43.59L10.3 9.45l-7.72 7.72c-.78.78-.78 2.05 0 2.83L4 21.41c.39.39.9.59 1.41.59.51 0 1.02-.2 1.41-.59l7.78-7.78 2.81-2.81c.8-.78.8-2.07 0-2.86zM5.41 20L4 18.59l7.72-7.72 1.47 1.35L5.41 20z\"/>\n",
              "  </svg>\n",
              "      </button>\n",
              "      \n",
              "  <style>\n",
              "    .colab-df-container {\n",
              "      display:flex;\n",
              "      flex-wrap:wrap;\n",
              "      gap: 12px;\n",
              "    }\n",
              "\n",
              "    .colab-df-convert {\n",
              "      background-color: #E8F0FE;\n",
              "      border: none;\n",
              "      border-radius: 50%;\n",
              "      cursor: pointer;\n",
              "      display: none;\n",
              "      fill: #1967D2;\n",
              "      height: 32px;\n",
              "      padding: 0 0 0 0;\n",
              "      width: 32px;\n",
              "    }\n",
              "\n",
              "    .colab-df-convert:hover {\n",
              "      background-color: #E2EBFA;\n",
              "      box-shadow: 0px 1px 2px rgba(60, 64, 67, 0.3), 0px 1px 3px 1px rgba(60, 64, 67, 0.15);\n",
              "      fill: #174EA6;\n",
              "    }\n",
              "\n",
              "    [theme=dark] .colab-df-convert {\n",
              "      background-color: #3B4455;\n",
              "      fill: #D2E3FC;\n",
              "    }\n",
              "\n",
              "    [theme=dark] .colab-df-convert:hover {\n",
              "      background-color: #434B5C;\n",
              "      box-shadow: 0px 1px 3px 1px rgba(0, 0, 0, 0.15);\n",
              "      filter: drop-shadow(0px 1px 2px rgba(0, 0, 0, 0.3));\n",
              "      fill: #FFFFFF;\n",
              "    }\n",
              "  </style>\n",
              "\n",
              "      <script>\n",
              "        const buttonEl =\n",
              "          document.querySelector('#df-17c5c1ad-97ff-44dd-ad3a-b88cc4e2a9af button.colab-df-convert');\n",
              "        buttonEl.style.display =\n",
              "          google.colab.kernel.accessAllowed ? 'block' : 'none';\n",
              "\n",
              "        async function convertToInteractive(key) {\n",
              "          const element = document.querySelector('#df-17c5c1ad-97ff-44dd-ad3a-b88cc4e2a9af');\n",
              "          const dataTable =\n",
              "            await google.colab.kernel.invokeFunction('convertToInteractive',\n",
              "                                                     [key], {});\n",
              "          if (!dataTable) return;\n",
              "\n",
              "          const docLinkHtml = 'Like what you see? Visit the ' +\n",
              "            '<a target=\"_blank\" href=https://colab.research.google.com/notebooks/data_table.ipynb>data table notebook</a>'\n",
              "            + ' to learn more about interactive tables.';\n",
              "          element.innerHTML = '';\n",
              "          dataTable['output_type'] = 'display_data';\n",
              "          await google.colab.output.renderOutput(dataTable, element);\n",
              "          const docLink = document.createElement('div');\n",
              "          docLink.innerHTML = docLinkHtml;\n",
              "          element.appendChild(docLink);\n",
              "        }\n",
              "      </script>\n",
              "    </div>\n",
              "  </div>\n",
              "  "
            ]
          },
          "metadata": {},
          "execution_count": 15
        }
      ]
    },
    {
      "cell_type": "code",
      "execution_count": null,
      "metadata": {
        "id": "rEhrjGald9HL"
      },
      "outputs": [],
      "source": [
        "X = train"
      ]
    },
    {
      "cell_type": "code",
      "execution_count": null,
      "metadata": {
        "id": "A_uDbrLUFPl8"
      },
      "outputs": [],
      "source": [
        "X = X.to_numpy()\n",
        "y = y.to_numpy().reshape(-1, 1)\n",
        "X_test = X_test.to_numpy()"
      ]
    },
    {
      "cell_type": "markdown",
      "source": [
        "kFold 사용해서 train과 Validation 나눠주기"
      ],
      "metadata": {
        "id": "qXvzRyQ3YUiv"
      }
    },
    {
      "cell_type": "code",
      "execution_count": null,
      "metadata": {
        "id": "JxBTfFLW_YYn"
      },
      "outputs": [],
      "source": [
        "kf = KFold(n_splits=5, random_state=42, shuffle=True)\n",
        "predictions_array =[]\n",
        "CV_score_array    =[]\n",
        "for train_index, test_index in kf.split(X):\n",
        "    X_train, X_valid = X[train_index], X[test_index]\n",
        "    y_train, y_valid = y[train_index], y[test_index]"
      ]
    },
    {
      "cell_type": "markdown",
      "source": [
        "### 모델 선언 및 학습"
      ],
      "metadata": {
        "id": "QOpC4MoGIq-1"
      }
    },
    {
      "cell_type": "markdown",
      "source": [
        "파라미터 튜닝해주기"
      ],
      "metadata": {
        "id": "cVZa5pobXy_u"
      }
    },
    {
      "cell_type": "code",
      "execution_count": null,
      "metadata": {
        "id": "yzaXZz-cPrb7"
      },
      "outputs": [],
      "source": [
        "clf = TabNetRegressor(n_steps=3, gamma = 1.3,\n",
        "                                optimizer_params=dict(lr=2e-2),\n",
        "                                mask_type='entmax',\n",
        "                                lambda_sparse=0\n",
        "                      )"
      ]
    },
    {
      "cell_type": "markdown",
      "source": [
        "TabNet 모델 사용"
      ],
      "metadata": {
        "id": "GI_TwkWUYhoY"
      }
    },
    {
      "cell_type": "code",
      "execution_count": null,
      "metadata": {
        "colab": {
          "background_save": true,
          "base_uri": "https://localhost:8080/"
        },
        "id": "V4KlDbp2c733",
        "outputId": "faededcf-dea3-4a02-9c09-3f5c58dd2200"
      },
      "outputs": [
        {
          "name": "stderr",
          "output_type": "stream",
          "text": [
            "/usr/local/lib/python3.8/dist-packages/pytorch_tabnet/abstract_model.py:75: UserWarning: Device used : cpu\n",
            "  warnings.warn(f\"Device used : {self.device}\")\n"
          ]
        },
        {
          "name": "stdout",
          "output_type": "stream",
          "text": [
            "epoch 0  | loss: 74.99986| val_0_mse: 46.47909927368164|  0:03:28s\n",
            "epoch 1  | loss: 48.02594| val_0_mse: 41.7305793762207|  0:07:41s\n",
            "epoch 2  | loss: 45.25614| val_0_mse: 40.704261779785156|  0:11:35s\n",
            "epoch 3  | loss: 44.18535| val_0_mse: 39.683109283447266|  0:16:35s\n",
            "epoch 4  | loss: 43.5769 | val_0_mse: 40.272361755371094|  0:20:49s\n",
            "epoch 5  | loss: 43.16204| val_0_mse: 39.282318115234375|  0:24:23s\n",
            "epoch 6  | loss: 42.82725| val_0_mse: 38.48244094848633|  0:27:44s\n",
            "epoch 7  | loss: 42.47354| val_0_mse: 38.47930145263672|  0:31:05s\n",
            "epoch 8  | loss: 42.24093| val_0_mse: 37.78300094604492|  0:34:29s\n",
            "epoch 9  | loss: 41.9733 | val_0_mse: 37.48252868652344|  0:37:45s\n",
            "epoch 10 | loss: 41.79403| val_0_mse: 37.782039642333984|  0:41:03s\n",
            "epoch 11 | loss: 41.65425| val_0_mse: 37.7052001953125|  0:44:26s\n",
            "epoch 12 | loss: 41.50367| val_0_mse: 37.81813049316406|  0:47:34s\n",
            "epoch 13 | loss: 41.3439 | val_0_mse: 37.05210876464844|  0:50:42s\n",
            "epoch 14 | loss: 41.28077| val_0_mse: 37.053218841552734|  0:53:52s\n",
            "epoch 15 | loss: 41.14165| val_0_mse: 37.88811111450195|  0:57:02s\n",
            "epoch 16 | loss: 41.09117| val_0_mse: 37.00653076171875|  1:00:17s\n",
            "epoch 17 | loss: 41.00415| val_0_mse: 37.67441177368164|  1:03:45s\n",
            "epoch 18 | loss: 40.875  | val_0_mse: 36.95003890991211|  1:06:58s\n",
            "epoch 19 | loss: 40.79754| val_0_mse: 37.296260833740234|  1:10:13s\n",
            "epoch 20 | loss: 40.69394| val_0_mse: 36.88589859008789|  1:13:35s\n",
            "epoch 21 | loss: 40.60897| val_0_mse: 36.48371887207031|  1:17:08s\n",
            "epoch 22 | loss: 40.42405| val_0_mse: 37.179420471191406|  1:20:23s\n",
            "epoch 23 | loss: 40.47403| val_0_mse: 36.359161376953125|  1:23:29s\n",
            "epoch 24 | loss: 40.42902| val_0_mse: 36.19770050048828|  1:26:35s\n",
            "epoch 25 | loss: 40.32828| val_0_mse: 36.679561614990234|  1:29:38s\n",
            "epoch 26 | loss: 40.30257| val_0_mse: 36.31386184692383|  1:32:41s\n",
            "epoch 27 | loss: 40.15495| val_0_mse: 36.64849090576172|  1:35:49s\n",
            "epoch 28 | loss: 40.10192| val_0_mse: 35.9617805480957|  1:38:57s\n",
            "epoch 29 | loss: 40.01088| val_0_mse: 35.68989944458008|  1:42:02s\n",
            "epoch 30 | loss: 39.89387| val_0_mse: 36.70793151855469|  1:45:08s\n",
            "epoch 31 | loss: 39.8095 | val_0_mse: 35.72317886352539|  1:48:10s\n",
            "epoch 32 | loss: 39.6865 | val_0_mse: 35.641761779785156|  1:51:15s\n",
            "epoch 33 | loss: 39.59666| val_0_mse: 35.58647155761719|  1:54:18s\n",
            "epoch 34 | loss: 39.45344| val_0_mse: 36.18199920654297|  1:57:20s\n",
            "epoch 35 | loss: 39.44217| val_0_mse: 35.279518127441406|  2:00:24s\n",
            "epoch 36 | loss: 39.37472| val_0_mse: 35.76874923706055|  2:03:37s\n",
            "epoch 37 | loss: 39.27748| val_0_mse: 35.30828094482422|  2:06:44s\n",
            "epoch 38 | loss: 39.24939| val_0_mse: 34.85594940185547|  2:09:52s\n",
            "epoch 39 | loss: 39.17213| val_0_mse: 35.68207931518555|  2:12:58s\n",
            "epoch 40 | loss: 39.08565| val_0_mse: 35.22100830078125|  2:16:07s\n",
            "epoch 41 | loss: 39.08412| val_0_mse: 35.14657974243164|  2:19:13s\n",
            "epoch 42 | loss: 38.96581| val_0_mse: 35.95254135131836|  2:22:19s\n",
            "epoch 43 | loss: 38.94268| val_0_mse: 34.88853073120117|  2:25:24s\n",
            "epoch 44 | loss: 38.91071| val_0_mse: 34.959049224853516|  2:28:30s\n",
            "epoch 45 | loss: 38.92278| val_0_mse: 34.630409240722656|  2:31:36s\n",
            "epoch 46 | loss: 38.82089| val_0_mse: 34.53424072265625|  2:34:42s\n",
            "epoch 47 | loss: 38.80623| val_0_mse: 35.01816177368164|  2:37:42s\n",
            "epoch 48 | loss: 38.67714| val_0_mse: 34.45996856689453|  2:40:39s\n",
            "epoch 49 | loss: 38.73452| val_0_mse: 34.38523864746094|  2:43:37s\n",
            "epoch 50 | loss: 38.6436 | val_0_mse: 35.11333084106445|  2:46:36s\n",
            "epoch 51 | loss: 38.62138| val_0_mse: 34.358638763427734|  2:49:38s\n",
            "epoch 52 | loss: 38.58308| val_0_mse: 34.84360122680664|  2:52:39s\n",
            "epoch 53 | loss: 38.52937| val_0_mse: 34.32054138183594|  2:55:43s\n",
            "epoch 54 | loss: 38.42613| val_0_mse: 34.568809509277344|  2:58:46s\n",
            "epoch 55 | loss: 38.44406| val_0_mse: 34.52653884887695|  3:01:46s\n",
            "epoch 56 | loss: 38.39032| val_0_mse: 34.478538513183594|  3:04:50s\n",
            "epoch 57 | loss: 38.41784| val_0_mse: 34.1219596862793|  3:08:01s\n",
            "epoch 58 | loss: 38.39637| val_0_mse: 34.26694869995117|  3:11:13s\n",
            "epoch 59 | loss: 38.36694| val_0_mse: 34.195499420166016|  3:14:24s\n",
            "epoch 60 | loss: 38.36981| val_0_mse: 34.84027862548828|  3:17:34s\n",
            "epoch 61 | loss: 38.27622| val_0_mse: 33.79526138305664|  3:20:47s\n",
            "epoch 62 | loss: 38.27225| val_0_mse: 34.61717987060547|  3:23:53s\n",
            "epoch 63 | loss: 38.26855| val_0_mse: 33.9669189453125|  3:27:04s\n",
            "epoch 64 | loss: 38.18247| val_0_mse: 34.49203872680664|  3:30:16s\n",
            "epoch 65 | loss: 38.18775| val_0_mse: 34.919979095458984|  3:33:27s\n",
            "epoch 66 | loss: 38.16469| val_0_mse: 33.6114387512207|  3:36:36s\n",
            "epoch 67 | loss: 38.08734| val_0_mse: 33.67042922973633|  3:39:43s\n",
            "epoch 68 | loss: 38.0934 | val_0_mse: 33.650840759277344|  3:42:51s\n",
            "epoch 69 | loss: 38.08863| val_0_mse: 33.574928283691406|  3:46:02s\n",
            "epoch 70 | loss: 37.95051| val_0_mse: 34.148529052734375|  3:49:13s\n",
            "epoch 71 | loss: 37.97654| val_0_mse: 33.416099548339844|  3:52:22s\n",
            "epoch 72 | loss: 37.80681| val_0_mse: 33.46757888793945|  3:55:32s\n",
            "epoch 73 | loss: 37.69727| val_0_mse: 33.77988815307617|  3:58:40s\n",
            "epoch 74 | loss: 37.58099| val_0_mse: 32.516151428222656|  4:01:46s\n",
            "epoch 75 | loss: 37.49611| val_0_mse: 33.4232292175293|  4:04:54s\n",
            "epoch 76 | loss: 37.35989| val_0_mse: 32.88323974609375|  4:07:59s\n",
            "epoch 77 | loss: 37.27731| val_0_mse: 32.54658126831055|  4:11:04s\n",
            "epoch 78 | loss: 37.2191 | val_0_mse: 33.39289855957031|  4:14:14s\n",
            "epoch 79 | loss: 37.16233| val_0_mse: 33.18247985839844|  4:17:21s\n",
            "epoch 80 | loss: 37.13587| val_0_mse: 32.13164138793945|  4:20:34s\n",
            "epoch 81 | loss: 37.08702| val_0_mse: 33.38277053833008|  4:23:48s\n",
            "epoch 82 | loss: 37.06175| val_0_mse: 31.95302963256836|  4:26:55s\n",
            "epoch 83 | loss: 37.06493| val_0_mse: 32.276939392089844|  4:30:06s\n",
            "epoch 84 | loss: 37.00725| val_0_mse: 32.87689971923828|  4:33:14s\n",
            "epoch 85 | loss: 36.9578 | val_0_mse: 32.25468826293945|  4:36:19s\n",
            "epoch 86 | loss: 36.94001| val_0_mse: 33.40351104736328|  4:39:26s\n",
            "epoch 87 | loss: 36.93432| val_0_mse: 33.03554153442383|  4:42:31s\n",
            "epoch 88 | loss: 36.91204| val_0_mse: 32.87776184082031|  4:45:35s\n",
            "epoch 89 | loss: 36.85179| val_0_mse: 34.29866027832031|  4:48:43s\n",
            "epoch 90 | loss: 36.82638| val_0_mse: 31.925729751586914|  4:51:51s\n",
            "epoch 91 | loss: 36.78326| val_0_mse: 31.513229370117188|  4:54:58s\n",
            "epoch 92 | loss: 36.85357| val_0_mse: 32.77690124511719|  4:58:05s\n",
            "epoch 93 | loss: 36.73451| val_0_mse: 31.899200439453125|  5:01:11s\n",
            "epoch 94 | loss: 36.72644| val_0_mse: 32.654640197753906|  5:04:23s\n",
            "epoch 95 | loss: 36.77652| val_0_mse: 31.982219696044922|  5:07:33s\n",
            "epoch 96 | loss: 36.74176| val_0_mse: 32.387611389160156|  5:10:45s\n",
            "epoch 97 | loss: 36.64911| val_0_mse: 32.23326873779297|  5:13:52s\n",
            "epoch 98 | loss: 36.7361 | val_0_mse: 31.962249755859375|  5:17:04s\n",
            "epoch 99 | loss: 36.64318| val_0_mse: 32.09798812866211|  5:20:10s\n",
            "Stop training because you reached max_epochs = 100 with best_epoch = 91 and best_val_0_mse = 31.513229370117188\n"
          ]
        },
        {
          "name": "stderr",
          "output_type": "stream",
          "text": [
            "/usr/local/lib/python3.8/dist-packages/pytorch_tabnet/callbacks.py:172: UserWarning: Best weights from best epoch are automatically used!\n",
            "  warnings.warn(wrn_msg)\n"
          ]
        }
      ],
      "source": [
        "from pytorch_tabnet.tab_model import TabNetRegressor\n",
        "\n",
        "clf = TabNetRegressor()\n",
        "clf.fit(\n",
        "  X_train, y_train,\n",
        "  eval_set=[(X_valid, y_valid)],\n",
        "  batch_size=1024, virtual_batch_size=128,\n",
        "  max_epochs=200, patience=10\n",
        ")"
      ]
    },
    {
      "cell_type": "markdown",
      "source": [
        "### 추론"
      ],
      "metadata": {
        "id": "Kj7gH7UkIw4A"
      }
    },
    {
      "cell_type": "code",
      "execution_count": null,
      "metadata": {
        "colab": {
          "background_save": true
        },
        "id": "u5ln6MtHhTS9"
      },
      "outputs": [],
      "source": [
        "preds = clf.predict(X_test)"
      ]
    },
    {
      "cell_type": "code",
      "execution_count": null,
      "metadata": {
        "colab": {
          "background_save": true
        },
        "id": "rqV4sMCwhjxH"
      },
      "outputs": [],
      "source": [
        "sample_submission = pd.read_csv('./sample_submission.csv')\n",
        "sample_submission['target'] = preds\n",
        "sample_submission.to_csv(\"./submit_deep_max.csv\", index = False)"
      ]
    },
    {
      "cell_type": "code",
      "execution_count": null,
      "metadata": {
        "id": "t5qP-Ss4fmtt"
      },
      "outputs": [],
      "source": []
    }
  ],
  "metadata": {
    "colab": {
      "provenance": []
    },
    "kernelspec": {
      "display_name": "Python 3",
      "name": "python3"
    },
    "language_info": {
      "name": "python"
    }
  },
  "nbformat": 4,
  "nbformat_minor": 0
}